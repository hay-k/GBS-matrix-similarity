{
 "cells": [
  {
   "cell_type": "markdown",
   "metadata": {},
   "source": [
    "## An Instructive demonstration of the GBS-molecular-similarity library ##"
   ]
  },
  {
   "cell_type": "code",
   "execution_count": null,
   "metadata": {},
   "outputs": [],
   "source": [
    "def wrapper(mol1, mol2):\n",
    "    \"\"\"\n",
    "    returns similarity between two molecules: mol1 and mol2\n",
    "    demonstrates how are other functions are supposed to be used.\n",
    "    \"\"\"\n",
    "    a1, b1 = get_single_two_body(mol1)\n",
    "    adj1 = get_adjacency_matrix(a1, b1)\n",
    "    a2, b2 = get_single_two_body(mol2)\n",
    "    adj2 = get_adjacency_matrix(a2, b2)\n",
    "    return calculate_similarity(adj1, adj2)"
   ]
  }
 ],
 "metadata": {
  "kernelspec": {
   "display_name": "Python 3",
   "language": "python",
   "name": "python3"
  },
  "language_info": {
   "codemirror_mode": {
    "name": "ipython",
    "version": 3
   },
   "file_extension": ".py",
   "mimetype": "text/x-python",
   "name": "python",
   "nbconvert_exporter": "python",
   "pygments_lexer": "ipython3",
   "version": "3.6.8"
  }
 },
 "nbformat": 4,
 "nbformat_minor": 2
}
